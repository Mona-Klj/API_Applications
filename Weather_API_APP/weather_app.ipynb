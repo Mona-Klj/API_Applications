{
 "cells": [
  {
   "cell_type": "code",
   "execution_count": 22,
   "id": "4c1cfba1-3cc7-4e56-ae8e-8d2a0dda4286",
   "metadata": {},
   "outputs": [
    {
     "name": "stdin",
     "output_type": "stream",
     "text": [
      "Enter City: Vancouver\n"
     ]
    },
    {
     "name": "stdout",
     "output_type": "stream",
     "text": [
      "The weather in Vancouver is: Clouds\n",
      "The temperature in Vancouver is: 15ºC\n"
     ]
    }
   ],
   "source": [
    "import requests\n",
    "\n",
    "api_key = 'c75a7c5c130876ab9e30601bbce38099'\n",
    "\n",
    "user_input = input(\"Enter City:\")\n",
    "\n",
    "weather_data = requests.get(\n",
    "    f\"https://api.openweathermap.org/data/2.5/weather?q={user_input}&units=imperial&APPID={api_key}\")\n",
    "\n",
    "#print(weather_data.status_code)\n",
    "\n",
    "#print(weather_data.json())\n",
    "\n",
    "if weather_data.json()['cod'] == '404':\n",
    "    print(\"No City Found\")\n",
    "else:\n",
    "    weather = weather_data.json()['weather'][0]['main']\n",
    "    temp = round((weather_data.json()['main']['temp']-32)*5/9)\n",
    "\n",
    "    print(f\"The weather in {user_input} is: {weather}\")\n",
    "    print(f\"The temperature in {user_input} is: {temp}ºC\")"
   ]
  },
  {
   "cell_type": "code",
   "execution_count": null,
   "id": "c24f3479-1617-4c7c-bce8-f06123dc8249",
   "metadata": {},
   "outputs": [],
   "source": []
  },
  {
   "cell_type": "code",
   "execution_count": null,
   "id": "7b0068ec-9d58-4a03-a7fa-c5d4b88a9f2f",
   "metadata": {},
   "outputs": [],
   "source": []
  }
 ],
 "metadata": {
  "kernelspec": {
   "display_name": "Python [conda env:blhl] *",
   "language": "python",
   "name": "conda-env-blhl-py"
  },
  "language_info": {
   "codemirror_mode": {
    "name": "ipython",
    "version": 3
   },
   "file_extension": ".py",
   "mimetype": "text/x-python",
   "name": "python",
   "nbconvert_exporter": "python",
   "pygments_lexer": "ipython3",
   "version": "3.7.11"
  }
 },
 "nbformat": 4,
 "nbformat_minor": 5
}
